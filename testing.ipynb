{
 "cells": [
  {
   "cell_type": "code",
   "execution_count": 32,
   "metadata": {},
   "outputs": [
    {
     "name": "stdout",
     "output_type": "stream",
     "text": [
      "DatasetDict({\n",
      "    validation: Dataset({\n",
      "        features: ['answers', 'passages', 'query', 'query_id', 'query_type', 'wellFormedAnswers'],\n",
      "        num_rows: 101093\n",
      "    })\n",
      "    train: Dataset({\n",
      "        features: ['answers', 'passages', 'query', 'query_id', 'query_type', 'wellFormedAnswers'],\n",
      "        num_rows: 808731\n",
      "    })\n",
      "    test: Dataset({\n",
      "        features: ['answers', 'passages', 'query', 'query_id', 'query_type', 'wellFormedAnswers'],\n",
      "        num_rows: 101092\n",
      "    })\n",
      "})\n"
     ]
    }
   ],
   "source": [
    "from datasets import load_dataset\n",
    "\n",
    "dataset = load_dataset(\"microsoft/ms_marco\", \"v2.1\")\n",
    "\n",
    "print(dataset)"
   ]
  },
  {
   "cell_type": "markdown",
   "metadata": {},
   "source": [
    "dataset['train'][0]"
   ]
  },
  {
   "cell_type": "code",
   "execution_count": 33,
   "metadata": {},
   "outputs": [
    {
     "data": {
      "text/plain": [
       "{'answers': ['The immediate impact of the success of the manhattan project was the only cloud hanging over the impressive achievement of the atomic researchers and engineers is what their success truly meant; hundreds of thousands of innocent lives obliterated.'],\n",
       " 'passages': {'is_selected': [1, 0, 0, 0, 0, 0, 0, 0, 0, 0],\n",
       "  'passage_text': ['The presence of communication amid scientific minds was equally important to the success of the Manhattan Project as scientific intellect was. The only cloud hanging over the impressive achievement of the atomic researchers and engineers is what their success truly meant; hundreds of thousands of innocent lives obliterated.',\n",
       "   'The Manhattan Project and its atomic bomb helped bring an end to World War II. Its legacy of peaceful uses of atomic energy continues to have an impact on history and science.',\n",
       "   'Essay on The Manhattan Project - The Manhattan Project The Manhattan Project was to see if making an atomic bomb possible. The success of this project would forever change the world forever making it known that something this powerful can be manmade.',\n",
       "   'The Manhattan Project was the name for a project conducted during World War II, to develop the first atomic bomb. It refers specifically to the period of the project from 194 … 2-1946 under the control of the U.S. Army Corps of Engineers, under the administration of General Leslie R. Groves.',\n",
       "   'versions of each volume as well as complementary websites. The first website–The Manhattan Project: An Interactive History–is available on the Office of History and Heritage Resources website, http://www.cfo. doe.gov/me70/history. The Office of History and Heritage Resources and the National Nuclear Security',\n",
       "   'The Manhattan Project. This once classified photograph features the first atomic bomb — a weapon that atomic scientists had nicknamed Gadget.. The nuclear age began on July 16, 1945, when it was detonated in the New Mexico desert.',\n",
       "   'Nor will it attempt to substitute for the extraordinarily rich literature on the atomic bombs and the end of World War II. This collection does not attempt to document the origins and development of the Manhattan Project.',\n",
       "   'Manhattan Project. The Manhattan Project was a research and development undertaking during World War II that produced the first nuclear weapons. It was led by the United States with the support of the United Kingdom and Canada. From 1942 to 1946, the project was under the direction of Major General Leslie Groves of the U.S. Army Corps of Engineers. Nuclear physicist Robert Oppenheimer was the director of the Los Alamos Laboratory that designed the actual bombs. The Army component of the project was designated the',\n",
       "   'In June 1942, the United States Army Corps of Engineersbegan the Manhattan Project- The secret name for the 2 atomic bombs.',\n",
       "   \"One of the main reasons Hanford was selected as a site for the Manhattan Project's B Reactor was its proximity to the Columbia River, the largest river flowing into the Pacific Ocean from the North American coast.\"],\n",
       "  'url': ['http://www.pitt.edu/~sdb14/atombomb.html',\n",
       "   'http://www.osti.gov/accomplishments/manhattan_story.html',\n",
       "   'http://www.123helpme.com/impact-of-the-manhattan-project-preview.asp?id=177337',\n",
       "   'http://www.answers.com/Q/How_did_the_Manhattan_Project_impact_on_society',\n",
       "   'https://www.osti.gov/manhattan-project-history/publications/Manhattan_Project_2010.pdf',\n",
       "   'http://www.ushistory.org/us/51f.asp',\n",
       "   'http://nsarchive.gwu.edu/NSAEBB/NSAEBB162',\n",
       "   'https://en.wikipedia.org/wiki/Manhattan_Project',\n",
       "   'https://quizlet.com/41456230/a-bomb-flash-cards/',\n",
       "   'https://www.atomicheritage.org/history/environmental-consequences']},\n",
       " 'query': ')what was the immediate impact of the success of the manhattan project?',\n",
       " 'query_id': 1185869,\n",
       " 'query_type': 'DESCRIPTION',\n",
       " 'wellFormedAnswers': []}"
      ]
     },
     "execution_count": 33,
     "metadata": {},
     "output_type": "execute_result"
    }
   ],
   "source": [
    "dataset['train'][0]"
   ]
  },
  {
   "cell_type": "code",
   "execution_count": 34,
   "metadata": {},
   "outputs": [
    {
     "data": {
      "text/plain": [
       "{'is_selected': [0, 0, 0, 0, 0, 0, 1, 0, 0, 0],\n",
       " 'passage_text': ['Western betrayal. The concept of Western betrayal refers to the view that the United Kingdom and France failed to meet their legal, diplomatic, military and moral obligations with respect to the Czech and Polish nations during the prelude to and aftermath of the Second World War.',\n",
       "  \"The Tuvan People's Republic, was proclaimed independent in 1921 and was a satellite state of Soviet Union until its annexation in 1944 by the Soviet Union. Another early Soviet satellite state in Asia was the short-lived Far East Republic in Siberia. Post-World War II\",\n",
       "  'Satellite state. The term satellite state designates a country that is formally independent in the world, but under heavy political, economic and military influence or control from another country. The term was coined by analogy to planetary objects orbiting a larger object, such as smaller moons revolving around larger planets, and is used mainly to refer to Central and Eastern European countries of the Warsaw Pact during the Cold War or to Mongolia or Tannu Tuva between 1924 and 1990, for example. As used for',\n",
       "  'According to Hakluyt, why should England pursue colonies in North America? Check all of the boxes that apply.',\n",
       "  \"An interview with Anne Applebaum about her new book, The Crushing of Eastern Europe. Soviet-built tanks wheel into action in a smoke-filled Budapest street during Hungary's rebellion against communist satellite government in October of 1956.\",\n",
       "  \"They therefore,if anything, tightened their grip, Hungary 1956,Czechoslovakia 1968 and the construction of the Berlin Wall all being examples.After Stalin,it wasn't so much the desire to extend Soviet power as paranoia about losing it that maintained Soviet desire to control Eastern Europe.\",\n",
       "  'There are 3 main reasons why Stalin wanted to control Eastern Europe. 1.) Russia has historically no secure border. 2.) They wanted to set up satellite countries. 3.)',\n",
       "  'Why did the United Nations send troops to Korea in 1950? They wanted to contain and push back the communist invaders from the North. Why was the Arab-Israeli conflict considered part of the Cold War?',\n",
       "  'On top of that, Russia had been the victim of attacks from the west multiple times. In 1914 and 1941 Germany attacked Russia through Poland. To Stalin, the past was a reliable indicator of what the future could hold. Stalin thought that having control over eastern europe could significantly undermine this threat. Despite this, it was agreed at the Yalta conference, with the consent of Stalin, that all the countries liberated from Nazi Germany would have the right to be democratic and politically independent.',\n",
       "  \"Not just Eastern Europe, Stalin wanted to control the world by creating an empire based on Communism. That's how they clashed with US who intended to control the world by building an empire based on Capitalism. That's what the Cold War is about.\"],\n",
       " 'url': ['https://en.wikipedia.org/wiki/Western_betrayal',\n",
       "  'https://en.wikipedia.org/wiki/Satellite_state',\n",
       "  'https://en.wikipedia.org/wiki/Satellite_state',\n",
       "  'https://brainly.com/question/1017368',\n",
       "  'https://www.theatlantic.com/international/archive/2012/10/how-communism-took-over-eastern-europe-after-world-war-ii/263938/',\n",
       "  'https://au.answers.yahoo.com/question/index?qid=20090606182326AAJ2h45',\n",
       "  'https://brainly.com/question/2960720',\n",
       "  'https://quizlet.com/11608325/history-flashcards/',\n",
       "  'http://www.markedbyteachers.com/gcse/history/how-did-stalin-take-over-eastern-europe-between-1945-and-1949.html',\n",
       "  'https://answers.yahoo.com/question/index?qid=20090928204102AAGBpWx']}"
      ]
     },
     "execution_count": 34,
     "metadata": {},
     "output_type": "execute_result"
    }
   ],
   "source": [
    "dataset['train'][2]['passages']"
   ]
  },
  {
   "cell_type": "code",
   "execution_count": 35,
   "metadata": {},
   "outputs": [
    {
     "data": {
      "text/plain": [
       "10"
      ]
     },
     "execution_count": 35,
     "metadata": {},
     "output_type": "execute_result"
    }
   ],
   "source": [
    "len(dataset['train'][0]['passages']['passage_text'])"
   ]
  },
  {
   "cell_type": "code",
   "execution_count": 36,
   "metadata": {},
   "outputs": [
    {
     "name": "stdout",
     "output_type": "stream",
     "text": [
      ")what was the immediate impact of the success of the manhattan project? ['The presence of communication amid scientific minds was equally important to the success of the Manhattan Project as scientific intellect was. The only cloud hanging over the impressive achievement of the atomic researchers and engineers is what their success truly meant; hundreds of thousands of innocent lives obliterated.']\n",
      "_________ justice is designed to repair the harm to victim, the community and the offender caused by the offender criminal act. question 19 options: ['The approach is based on a theory of justice that considers crime and wrongdoing to be an offense against an individual or community, rather than the State. Restorative justice that fosters dialogue between victim and offender has shown the highest rates of victim satisfaction and offender accountability.']\n",
      "why did stalin want control of eastern europe ['There are 3 main reasons why Stalin wanted to control Eastern Europe. 1.) Russia has historically no secure border. 2.) They wanted to set up satellite countries. 3.)']\n",
      "why do nails get rusty ['A: Nails rust in water because water allows the iron to react with any oxygen present, which forms iron oxide, known as rust. In order to cause rust quickly, there must be some impurities in the water, particularly salts, since these speed up the transfer of electrons from iron to oxygen.']\n",
      "depona ab ['Depona Ab is a library in Vilhelmina, Sweden. The company is located at Slggatan 1. This private company was founded in 1999 (about 16 years ago). A typical library has between 4 and 80 employees, meaning that Depona Ab, with a reported 5 employees, employs a typical amount of people for the industry within Sweden.']\n",
      "is the atlanta airport the busiest in the world []\n",
      "nyu tuition cost ['tuition for new york university is $ 43746 for the 2014 2015 academic year this is 73 % more expensive than the national average private non profit four year college tuition of $ 25240he net out of pocket total cost you end up paying or financing though student loans is known as the net price the reported new york university net price for in state students $ 34268 for the 2013 2014 academic year this net price includes housing and meal expenses']\n",
      "at what age do kids start to hold memories ['Childhood amnesia, also called infantile amnesia, is the inability of adults to retrieve episodic memories before the age of 2–4 years, as well as the period before age 10 of which adults retain fewer memories than might otherwise be expected given the passage of time.']\n",
      "average teeth brushing time ['On average, Americans brush for just under the two minutes recommended by dental professionals. African Americans brush 18 seconds longer than Americans as a whole, while younger adults ages 18 to 24 spend 16 seconds longer than average brushing. Nearly six of 10 Americans brush their teeth at bedtime and as soon as they wake up in the morning, while 38 percent brush after breakfast. About 17 percent brush after lunch, and 21 percent brush after dinner.']\n",
      "is funner a word? ['Funner is, of course, a word in the same sense that ponyfraggis is a word, if word is defined as a pronounceable sequence of letters delimited by whitespace. In terms of usage, the frequency of use of More fun vs funner in formal writing suggest that funner is spoken slang. Naturally it is a word, too.']\n"
     ]
    }
   ],
   "source": [
    "for i in range(10):\n",
    "    query = dataset['train'][i]['query']\n",
    "    selected_passages = [\n",
    "        p for p, f in zip(dataset['train'][i]['passages']['passage_text'], \n",
    "                          dataset['train'][i]['passages']['is_selected']) \n",
    "        if f > 0]\n",
    "    print(query, selected_passages)\n"
   ]
  },
  {
   "cell_type": "code",
   "execution_count": 27,
   "metadata": {},
   "outputs": [
    {
     "data": {
      "image/png": "[encoded data removed]",
      "text/plain": [
       "<Figure size 640x480 with 1 Axes>"
      ]
     },
     "metadata": {},
     "output_type": "display_data"
    }
   ],
   "source": [
    "# plot the distribution of number of \"selected\" passages per query\n",
    "# is_selected is a binary flag per passage, so it can vary between 0 and 10 (each query has exactly 10 passages)\n",
    "import matplotlib.pyplot as plt\n",
    "selected_counts = [\n",
    "    sum(p['passages']['is_selected'])\n",
    "    for p in dataset['train']\n",
    "]\n",
    "plt.hist(selected_counts, bins=range(1, 11), edgecolor='black')\n",
    "plt.show()"
   ]
  },
  {
   "cell_type": "markdown",
   "metadata": {},
   "source": []
  },
  {
   "cell_type": "code",
   "execution_count": 38,
   "metadata": {},
   "outputs": [
    {
     "data": {
      "image/png": "[encoded data removed]",
      "text/plain": [
       "<Figure size 640x480 with 1 Axes>"
      ]
     },
     "metadata": {},
     "output_type": "display_data"
    }
   ],
   "source": [
    "# average length of the passages\n",
    "avg_lengths = [len(p['passages']['passage_text']) for p in dataset['train']]\n",
    "plt.hist(avg_lengths, bins=range(1, 200), edgecolor='black')\n",
    "plt.show()\n"
   ]
  },
  {
   "cell_type": "code",
   "execution_count": null,
   "metadata": {},
   "outputs": [],
   "source": [
    "v1_dataset = load_dataset(\"ms_marco\", \"v1\")"
   ]
  }
 ],
 "metadata": {
  "kernelspec": {
   "display_name": ".venv",
   "language": "python",
   "name": "python3"
  },
  "language_info": {
   "codemirror_mode": {
    "name": "ipython",
    "version": 3
   },
   "file_extension": ".py",
   "mimetype": "text/x-python",
   "name": "python",
   "nbconvert_exporter": "python",
   "pygments_lexer": "ipython3",
   "version": "3.10.15"
  }
 },
 "nbformat": 4,
 "nbformat_minor": 2
}
